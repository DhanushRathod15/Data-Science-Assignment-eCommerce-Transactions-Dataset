{
  "nbformat": 4,
  "nbformat_minor": 0,
  "metadata": {
    "colab": {
      "provenance": []
    },
    "kernelspec": {
      "name": "python3",
      "display_name": "Python 3"
    },
    "language_info": {
      "name": "python"
    }
  },
  "cells": [
    {
      "cell_type": "code",
      "execution_count": 24,
      "metadata": {
        "id": "_T0sdz_DgOE6"
      },
      "outputs": [],
      "source": [
        "import pandas as pd\n",
        "import matplotlib.pyplot as plt\n",
        "import seaborn as sns\n",
        "from sklearn.metrics.pairwise import cosine_similarity\n",
        "from sklearn.preprocessing import StandardScaler"
      ]
    },
    {
      "cell_type": "code",
      "source": [
        "# Provide the file paths for the datasets\n",
        "customers_path = '/content/drive/MyDrive/Datasets/Customers.csv'\n",
        "products_path = '/content/drive/MyDrive/Datasets/Products.csv'\n",
        "transactions_path = '/content/drive/MyDrive/Datasets/Transactions.csv'\n",
        "\n",
        "# Load datasets\n",
        "customers = pd.read_csv(customers_path)\n",
        "products = pd.read_csv(products_path)\n",
        "transactions = pd.read_csv(transactions_path)\n",
        "\n",
        "# Display first few rows of each dataset\n",
        "print(\"Customers Data:\")\n",
        "print(customers.head())\n",
        "\n",
        "print(\"\\nProducts Data:\")\n",
        "print(products.head())\n",
        "\n",
        "print(\"\\nTransactions Data:\")\n",
        "print(transactions.head())"
      ],
      "metadata": {
        "colab": {
          "base_uri": "https://localhost:8080/"
        },
        "id": "2cw-pMC9sk8s",
        "outputId": "65d89587-5f93-419f-adb8-653e03757044"
      },
      "execution_count": 3,
      "outputs": [
        {
          "output_type": "stream",
          "name": "stdout",
          "text": [
            "Customers Data:\n",
            "  CustomerID        CustomerName         Region  SignupDate\n",
            "0      C0001    Lawrence Carroll  South America  2022-07-10\n",
            "1      C0002      Elizabeth Lutz           Asia  2022-02-13\n",
            "2      C0003      Michael Rivera  South America  2024-03-07\n",
            "3      C0004  Kathleen Rodriguez  South America  2022-10-09\n",
            "4      C0005         Laura Weber           Asia  2022-08-15\n",
            "\n",
            "Products Data:\n",
            "  ProductID              ProductName     Category   Price\n",
            "0      P001     ActiveWear Biography        Books  169.30\n",
            "1      P002    ActiveWear Smartwatch  Electronics  346.30\n",
            "2      P003  ComfortLiving Biography        Books   44.12\n",
            "3      P004            BookWorld Rug   Home Decor   95.69\n",
            "4      P005          TechPro T-Shirt     Clothing  429.31\n",
            "\n",
            "Transactions Data:\n",
            "  TransactionID CustomerID ProductID      TransactionDate  Quantity  \\\n",
            "0        T00001      C0199      P067  2024-08-25 12:38:23         1   \n",
            "1        T00112      C0146      P067  2024-05-27 22:23:54         1   \n",
            "2        T00166      C0127      P067  2024-04-25 07:38:55         1   \n",
            "3        T00272      C0087      P067  2024-03-26 22:55:37         2   \n",
            "4        T00363      C0070      P067  2024-03-21 15:10:10         3   \n",
            "\n",
            "   TotalValue   Price  \n",
            "0      300.68  300.68  \n",
            "1      300.68  300.68  \n",
            "2      300.68  300.68  \n",
            "3      601.36  300.68  \n",
            "4      902.04  300.68  \n"
          ]
        }
      ]
    },
    {
      "cell_type": "code",
      "source": [
        "# Convert TransactionDate to datetime\n",
        "transactions[\"TransactionDate\"] = pd.to_datetime(transactions[\"TransactionDate\"])\n",
        "transactions[\"Year\"] = transactions[\"TransactionDate\"].dt.year"
      ],
      "metadata": {
        "id": "UCJHlI-AstC7"
      },
      "execution_count": 17,
      "outputs": []
    },
    {
      "cell_type": "code",
      "source": [
        "# Check data info\n",
        "print(customers.info())\n",
        "print(products.info())\n",
        "print(transactions.info())"
      ],
      "metadata": {
        "colab": {
          "base_uri": "https://localhost:8080/"
        },
        "id": "IhZAQfvevFM1",
        "outputId": "8ba98b86-482c-4754-b9c9-ccb8b92716bb"
      },
      "execution_count": 18,
      "outputs": [
        {
          "output_type": "stream",
          "name": "stdout",
          "text": [
            "<class 'pandas.core.frame.DataFrame'>\n",
            "RangeIndex: 200 entries, 0 to 199\n",
            "Data columns (total 4 columns):\n",
            " #   Column        Non-Null Count  Dtype \n",
            "---  ------        --------------  ----- \n",
            " 0   CustomerID    200 non-null    object\n",
            " 1   CustomerName  200 non-null    object\n",
            " 2   Region        200 non-null    object\n",
            " 3   SignupDate    200 non-null    object\n",
            "dtypes: object(4)\n",
            "memory usage: 6.4+ KB\n",
            "None\n",
            "<class 'pandas.core.frame.DataFrame'>\n",
            "RangeIndex: 100 entries, 0 to 99\n",
            "Data columns (total 4 columns):\n",
            " #   Column       Non-Null Count  Dtype  \n",
            "---  ------       --------------  -----  \n",
            " 0   ProductID    100 non-null    object \n",
            " 1   ProductName  100 non-null    object \n",
            " 2   Category     100 non-null    object \n",
            " 3   Price        100 non-null    float64\n",
            "dtypes: float64(1), object(3)\n",
            "memory usage: 3.3+ KB\n",
            "None\n",
            "<class 'pandas.core.frame.DataFrame'>\n",
            "RangeIndex: 1000 entries, 0 to 999\n",
            "Data columns (total 8 columns):\n",
            " #   Column           Non-Null Count  Dtype         \n",
            "---  ------           --------------  -----         \n",
            " 0   TransactionID    1000 non-null   object        \n",
            " 1   CustomerID       1000 non-null   object        \n",
            " 2   ProductID        1000 non-null   object        \n",
            " 3   TransactionDate  1000 non-null   datetime64[ns]\n",
            " 4   Quantity         1000 non-null   int64         \n",
            " 5   TotalValue       1000 non-null   float64       \n",
            " 6   Price            1000 non-null   float64       \n",
            " 7   Year             1000 non-null   int32         \n",
            "dtypes: datetime64[ns](1), float64(2), int32(1), int64(1), object(3)\n",
            "memory usage: 58.7+ KB\n",
            "None\n"
          ]
        }
      ]
    },
    {
      "cell_type": "code",
      "source": [
        "# Merge datasets\n",
        "merged_data = transactions.merge(products, on=\"ProductID\").merge(customers, on=\"CustomerID\")"
      ],
      "metadata": {
        "id": "aq76zB5N3P0-"
      },
      "execution_count": 19,
      "outputs": []
    },
    {
      "cell_type": "code",
      "source": [
        "# Feature Extraction\n",
        "customer_features = merged_data.groupby(\"CustomerID\").agg(\n",
        "    total_spent=(\"TotalValue\", \"sum\"),\n",
        "    num_transactions=(\"TransactionID\", \"count\"),\n",
        "    avg_transaction_value=(\"TotalValue\", \"mean\"),\n",
        "    preferred_category=(\"Category\", lambda x: x.mode()[0] if not x.mode().empty else None),\n",
        "    region=(\"Region\", \"first\")\n",
        ").reset_index()"
      ],
      "metadata": {
        "id": "oNJ3f6s63uLV"
      },
      "execution_count": 20,
      "outputs": []
    },
    {
      "cell_type": "code",
      "source": [
        "# Encode categorical features\n",
        "customer_features_encoded = pd.get_dummies(customer_features, columns=[\"preferred_category\", \"region\"], drop_first=True)"
      ],
      "metadata": {
        "id": "oOsDFmRl2zrH"
      },
      "execution_count": 21,
      "outputs": []
    },
    {
      "cell_type": "code",
      "source": [
        "# Standardize numerical features\n",
        "scaler = StandardScaler()\n",
        "numerical_features = [\"total_spent\", \"num_transactions\", \"avg_transaction_value\"]\n",
        "customer_features_encoded[numerical_features] = scaler.fit_transform(customer_features_encoded[numerical_features])"
      ],
      "metadata": {
        "id": "rvz5t7Od7MS9"
      },
      "execution_count": 25,
      "outputs": []
    },
    {
      "cell_type": "code",
      "source": [
        "# Compute cosine similarity\n",
        "similarity_matrix = cosine_similarity(customer_features_encoded.drop(\"CustomerID\", axis=1))\n",
        "similarity_df = pd.DataFrame(similarity_matrix, index=customer_features[\"CustomerID\"], columns=customer_features[\"CustomerID\"])"
      ],
      "metadata": {
        "id": "aoIyOVJrGQ-x"
      },
      "execution_count": 28,
      "outputs": []
    },
    {
      "cell_type": "code",
      "source": [
        "# Find top 3 lookalikes for each customer\n",
        "def get_top_lookalikes(similarity_row, top_n=3):\n",
        "    similar_customers = similarity_row.sort_values(ascending=False).iloc[1:top_n + 1]\n",
        "    return [(index, score) for index, score in similar_customers.items()]"
      ],
      "metadata": {
        "id": "VFe-h1tuCgyG"
      },
      "execution_count": 26,
      "outputs": []
    },
    {
      "cell_type": "code",
      "source": [
        "lookalike_map = {\n",
        "    cust_id: get_top_lookalikes(similarity_df.loc[cust_id])\n",
        "    for cust_id in similarity_df.index\n",
        "}"
      ],
      "metadata": {
        "id": "VqMQm5VUCqAu"
      },
      "execution_count": 29,
      "outputs": []
    },
    {
      "cell_type": "code",
      "source": [
        "# Filter for the first 20 customers\n",
        "lookalike_map_20 = {cust_id: lookalike_map[cust_id] for cust_id in similarity_df.index[:20]}\n"
      ],
      "metadata": {
        "id": "1YX6spkmCuOL"
      },
      "execution_count": 30,
      "outputs": []
    },
    {
      "cell_type": "code",
      "source": [
        "# Save to Lookalike.csv\n",
        "lookalike_output = []\n",
        "for cust_id, lookalikes in lookalike_map_20.items():\n",
        "    for similar_cust, score in lookalikes:\n",
        "        lookalike_output.append({\"cust_id\": cust_id, \"similar_cust\": similar_cust, \"score\": score})\n",
        "\n",
        "lookalike_df = pd.DataFrame(lookalike_output)\n",
        "lookalike_df.to_csv(\"Lookalike.csv\", index=False)"
      ],
      "metadata": {
        "id": "z2hGMz1vCy3z"
      },
      "execution_count": 31,
      "outputs": []
    }
  ]
}